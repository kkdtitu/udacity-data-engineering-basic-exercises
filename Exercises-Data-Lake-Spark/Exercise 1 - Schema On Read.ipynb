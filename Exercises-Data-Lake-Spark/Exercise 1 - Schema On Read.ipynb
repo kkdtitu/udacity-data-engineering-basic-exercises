{
 "cells": [
  {
   "cell_type": "markdown",
   "metadata": {},
   "source": [
    "# Exercise 1: Schema on Read"
   ]
  },
  {
   "cell_type": "code",
   "execution_count": 29,
   "metadata": {},
   "outputs": [],
   "source": [
    "from pyspark.sql import SparkSession\n",
    "import pandas as pd\n",
    "import matplotlib"
   ]
  },
  {
   "cell_type": "code",
   "execution_count": 30,
   "metadata": {},
   "outputs": [],
   "source": [
    "spark = SparkSession.builder.getOrCreate()"
   ]
  },
  {
   "cell_type": "code",
   "execution_count": 31,
   "metadata": {},
   "outputs": [],
   "source": [
    "dfLog = spark.read.text(\"data/NASA_access_log_Jul95.gz\")"
   ]
  },
  {
   "cell_type": "markdown",
   "metadata": {},
   "source": [
    "# Load the dataset"
   ]
  },
  {
   "cell_type": "code",
   "execution_count": 32,
   "metadata": {},
   "outputs": [],
   "source": [
    "#Data Source: http://ita.ee.lbl.gov/traces/NASA_access_log_Jul95.gz\n",
    "dfLog = spark.read.text(\"data/NASA_access_log_Jul95.gz\")"
   ]
  },
  {
   "cell_type": "markdown",
   "metadata": {},
   "source": [
    "# Quick inspection of  the data set"
   ]
  },
  {
   "cell_type": "code",
   "execution_count": 33,
   "metadata": {},
   "outputs": [
    {
     "name": "stdout",
     "output_type": "stream",
     "text": [
      "root\n",
      " |-- value: string (nullable = true)\n",
      "\n"
     ]
    }
   ],
   "source": [
    "# see the schema\n",
    "dfLog.printSchema()"
   ]
  },
  {
   "cell_type": "code",
   "execution_count": 34,
   "metadata": {},
   "outputs": [
    {
     "data": {
      "text/plain": [
       "1891715"
      ]
     },
     "execution_count": 34,
     "metadata": {},
     "output_type": "execute_result"
    }
   ],
   "source": [
    "# number of lines\n",
    "dfLog.count()"
   ]
  },
  {
   "cell_type": "code",
   "execution_count": 35,
   "metadata": {},
   "outputs": [
    {
     "name": "stdout",
     "output_type": "stream",
     "text": [
      "+--------------------+\n",
      "|               value|\n",
      "+--------------------+\n",
      "|199.72.81.55 - - ...|\n",
      "|unicomp6.unicomp....|\n",
      "|199.120.110.21 - ...|\n",
      "|burger.letters.co...|\n",
      "|199.120.110.21 - ...|\n",
      "|burger.letters.co...|\n",
      "|burger.letters.co...|\n",
      "+--------------------+\n",
      "only showing top 7 rows\n",
      "\n"
     ]
    }
   ],
   "source": [
    "#what's in there? \n",
    "dfLog.show(7)"
   ]
  },
  {
   "cell_type": "code",
   "execution_count": 36,
   "metadata": {},
   "outputs": [
    {
     "name": "stdout",
     "output_type": "stream",
     "text": [
      "+-----------------------------------------------------------------------------------------------------------------------+\n",
      "|value                                                                                                                  |\n",
      "+-----------------------------------------------------------------------------------------------------------------------+\n",
      "|199.72.81.55 - - [01/Jul/1995:00:00:01 -0400] \"GET /history/apollo/ HTTP/1.0\" 200 6245                                 |\n",
      "|unicomp6.unicomp.net - - [01/Jul/1995:00:00:06 -0400] \"GET /shuttle/countdown/ HTTP/1.0\" 200 3985                      |\n",
      "|199.120.110.21 - - [01/Jul/1995:00:00:09 -0400] \"GET /shuttle/missions/sts-73/mission-sts-73.html HTTP/1.0\" 200 4085   |\n",
      "|burger.letters.com - - [01/Jul/1995:00:00:11 -0400] \"GET /shuttle/countdown/liftoff.html HTTP/1.0\" 304 0               |\n",
      "|199.120.110.21 - - [01/Jul/1995:00:00:11 -0400] \"GET /shuttle/missions/sts-73/sts-73-patch-small.gif HTTP/1.0\" 200 4179|\n",
      "+-----------------------------------------------------------------------------------------------------------------------+\n",
      "only showing top 5 rows\n",
      "\n"
     ]
    }
   ],
   "source": [
    "#a better show?\n",
    "dfLog.show(5, truncate=False)"
   ]
  },
  {
   "cell_type": "code",
   "execution_count": 37,
   "metadata": {},
   "outputs": [
    {
     "data": {
      "text/html": [
       "<div>\n",
       "<style scoped>\n",
       "    .dataframe tbody tr th:only-of-type {\n",
       "        vertical-align: middle;\n",
       "    }\n",
       "\n",
       "    .dataframe tbody tr th {\n",
       "        vertical-align: top;\n",
       "    }\n",
       "\n",
       "    .dataframe thead th {\n",
       "        text-align: right;\n",
       "    }\n",
       "</style>\n",
       "<table border=\"1\" class=\"dataframe\">\n",
       "  <thead>\n",
       "    <tr style=\"text-align: right;\">\n",
       "      <th></th>\n",
       "      <th>value</th>\n",
       "    </tr>\n",
       "  </thead>\n",
       "  <tbody>\n",
       "    <tr>\n",
       "      <th>0</th>\n",
       "      <td>199.72.81.55 - - [01/Jul/1995:00:00:01 -0400] \"GET /history/apollo/ HTTP/1.0\" 200 6245</td>\n",
       "    </tr>\n",
       "    <tr>\n",
       "      <th>1</th>\n",
       "      <td>unicomp6.unicomp.net - - [01/Jul/1995:00:00:06 -0400] \"GET /shuttle/countdown/ HTTP/1.0\" 200 3985</td>\n",
       "    </tr>\n",
       "    <tr>\n",
       "      <th>2</th>\n",
       "      <td>199.120.110.21 - - [01/Jul/1995:00:00:09 -0400] \"GET /shuttle/missions/sts-73/mission-sts-73.html HTTP/1.0\" 200 4085</td>\n",
       "    </tr>\n",
       "    <tr>\n",
       "      <th>3</th>\n",
       "      <td>burger.letters.com - - [01/Jul/1995:00:00:11 -0400] \"GET /shuttle/countdown/liftoff.html HTTP/1.0\" 304 0</td>\n",
       "    </tr>\n",
       "    <tr>\n",
       "      <th>4</th>\n",
       "      <td>199.120.110.21 - - [01/Jul/1995:00:00:11 -0400] \"GET /shuttle/missions/sts-73/sts-73-patch-small.gif HTTP/1.0\" 200 4179</td>\n",
       "    </tr>\n",
       "  </tbody>\n",
       "</table>\n",
       "</div>"
      ],
      "text/plain": [
       "                                                                                                                     value\n",
       "0                                   199.72.81.55 - - [01/Jul/1995:00:00:01 -0400] \"GET /history/apollo/ HTTP/1.0\" 200 6245\n",
       "1                        unicomp6.unicomp.net - - [01/Jul/1995:00:00:06 -0400] \"GET /shuttle/countdown/ HTTP/1.0\" 200 3985\n",
       "2     199.120.110.21 - - [01/Jul/1995:00:00:09 -0400] \"GET /shuttle/missions/sts-73/mission-sts-73.html HTTP/1.0\" 200 4085\n",
       "3                 burger.letters.com - - [01/Jul/1995:00:00:11 -0400] \"GET /shuttle/countdown/liftoff.html HTTP/1.0\" 304 0\n",
       "4  199.120.110.21 - - [01/Jul/1995:00:00:11 -0400] \"GET /shuttle/missions/sts-73/sts-73-patch-small.gif HTTP/1.0\" 200 4179"
      ]
     },
     "execution_count": 37,
     "metadata": {},
     "output_type": "execute_result"
    }
   ],
   "source": [
    "#pandas to the rescue\n",
    "pd.set_option('max_colwidth', 300)\n",
    "dfLog.limit(5).toPandas()"
   ]
  },
  {
   "cell_type": "markdown",
   "metadata": {},
   "source": [
    "# Let' try simple parsing with split"
   ]
  },
  {
   "cell_type": "code",
   "execution_count": 38,
   "metadata": {},
   "outputs": [
    {
     "name": "stdout",
     "output_type": "stream",
     "text": [
      "{'host': '199.120.110.21', 'client_identd': '-', 'user_id': '-', 'date_time': '01/Jul/1995:00:00:11 -0400', 'method': 'GET', 'endpoint': '/shuttle/missions/sts-73/sts-73-patch-small.gif', 'protocol': 'HTTP/1.0', 'response_code': '200', 'content_size': '4179'}\n",
      "{'host': 'unicomp6.unicomp.net', 'client_identd': '-', 'user_id': '-', 'date_time': '01/Jul/1995:00:00:06 -0400', 'method': 'GET', 'endpoint': '/shuttle/countdown/', 'protocol': 'HTTP/1.0', 'response_code': '200', 'content_size': '3985'}\n"
     ]
    }
   ],
   "source": [
    "from pyspark.sql.functions import split\n",
    "import re\n",
    "# Todo\n",
    "string = \"199.120.110.21 - - [01/Jul/1995:00:00:11 -0400] \\\"GET /shuttle/missions/sts-73/sts-73-patch-small.gif HTTP/1.0\\\" 200 4179\"\n",
    "pattern = \"^(\\S+) (\\S+) (\\S+) \\[(\\S+) (\\-[\\d]+)\\] \\\"([A-Za-z]+) (\\S+) (\\S+)\\\" ([0-9]+) (\\d+)\"\n",
    "result = re.search(pattern, string)\n",
    "#print(result.group(1), result.group(2), result.group(3), result.group(4), \\\n",
    "#      result.group(5), result.group(6), result.group(7), result.group(8))\n",
    "dict1 = dict()\n",
    "dict1['host'] = result.group(1)\n",
    "dict1['client_identd'] = result.group(2)\n",
    "dict1['user_id'] = result.group(3)\n",
    "dict1['date_time'] = result.group(4) + ' ' + result.group(5)\n",
    "dict1['method'] = result.group(6)\n",
    "dict1['endpoint'] = result.group(7)\n",
    "dict1['protocol'] = result.group(8)\n",
    "dict1['response_code'] = result.group(9)\n",
    "dict1['content_size'] = result.group(10)\n",
    "print(dict1)\n",
    "\n",
    "\n",
    "string = \"unicomp6.unicomp.net - - [01/Jul/1995:00:00:06 -0400] \\\"GET /shuttle/countdown/ HTTP/1.0\\\" 200 3985\"\n",
    "pattern = \"^(\\S+) (\\S+) (\\S+) \\[(\\S+) (\\-[\\d]+)\\] \\\"([A-Za-z]+) (\\S+) (\\S+)\\\" ([0-9]+) (\\d+)\"\n",
    "result = re.search(pattern, string)\n",
    "#print(result.group(1), result.group(2), result.group(3), result.group(4), \\\n",
    "#      result.group(5), result.group(6), result.group(7), result.group(8))\n",
    "dict1 = dict()\n",
    "dict1['host'] = result.group(1)\n",
    "dict1['client_identd'] = result.group(2)\n",
    "dict1['user_id'] = result.group(3)\n",
    "dict1['date_time'] = result.group(4) + ' ' + result.group(5)\n",
    "dict1['method'] = result.group(6)\n",
    "dict1['endpoint'] = result.group(7)\n",
    "dict1['protocol'] = result.group(8)\n",
    "dict1['response_code'] = result.group(9)\n",
    "dict1['content_size'] = result.group(10)\n",
    "print(dict1)"
   ]
  },
  {
   "cell_type": "markdown",
   "metadata": {},
   "source": [
    "# Second attempt, let's build a custom parsing UDF "
   ]
  },
  {
   "cell_type": "code",
   "execution_count": 39,
   "metadata": {},
   "outputs": [],
   "source": [
    "#from pyspark.sql.functions import udf\n",
    "\n",
    "#@udf\n",
    "#def parseUDF(line):\n",
    "# Todo"
   ]
  },
  {
   "cell_type": "code",
   "execution_count": 40,
   "metadata": {},
   "outputs": [],
   "source": [
    "#Let's start from the beginning\n",
    "# Todo"
   ]
  },
  {
   "cell_type": "code",
   "execution_count": 41,
   "metadata": {},
   "outputs": [],
   "source": [
    "#dfParsed.printSchema()"
   ]
  },
  {
   "cell_type": "markdown",
   "metadata": {},
   "source": [
    "# Third attempt, let's fix our UDF"
   ]
  },
  {
   "cell_type": "code",
   "execution_count": 42,
   "metadata": {},
   "outputs": [],
   "source": [
    "#from pyspark.sql.functions import udf # already imported\n",
    "#from pyspark.sql.types import MapType, StringType\n",
    "\n",
    "#@udf(MapType(StringType(),StringType()))\n",
    "#def parseUDFbetter(line):\n",
    "#    pattern = \"\""
   ]
  },
  {
   "cell_type": "code",
   "execution_count": 43,
   "metadata": {},
   "outputs": [],
   "source": [
    "#Let's start from the beginning\n",
    "# Todo"
   ]
  },
  {
   "cell_type": "code",
   "execution_count": 44,
   "metadata": {},
   "outputs": [],
   "source": [
    "#Let's start from the beginning\n",
    "# Todo\n",
    "from pyspark.sql.functions import split\n",
    "import re\n",
    "from pyspark.sql.functions import udf\n",
    "from pyspark.sql.types import StringType, IntegerType, FloatType\n",
    "from pyspark.sql.types import ArrayType, MapType\n",
    "\n",
    "\n",
    "@udf(returnType=MapType(StringType(), StringType()))\n",
    "def parseUDFbetter(line):\n",
    "    pattern = \"^(\\S+) (\\S+) (\\S+) \\[(\\S+) (\\-[\\d]+)\\] \\\"([A-Za-z]+) (\\S+) (\\S+)\\\" ([0-9]+) (\\d+)\"\n",
    "    result = re.search(pattern, line)\n",
    "    if result is None:\n",
    "        return(line, 0)\n",
    "    dict1 = dict()\n",
    "    dict1['host'] = result.group(1)\n",
    "    dict1['client_identd'] = result.group(2)\n",
    "    dict1['user_id'] = result.group(3)\n",
    "    dict1['date_time'] = result.group(4) + ' ' + result.group(5)\n",
    "    dict1['method'] = result.group(6)\n",
    "    dict1['endpoint'] = result.group(7)\n",
    "    dict1['protocol'] = result.group(8)\n",
    "    dict1['response_code'] = result.group(9)\n",
    "    dict1['content_size'] = result.group(10)\n",
    "    if dict1['content_size'] == '-':\n",
    "        dict1['content_size'] = 0\n",
    "    return dict1\n",
    "\n",
    "dfParsed = dfLog.withColumn(\"parsed\", parseUDFbetter(\"value\"))"
   ]
  },
  {
   "cell_type": "code",
   "execution_count": 45,
   "metadata": {},
   "outputs": [
    {
     "name": "stdout",
     "output_type": "stream",
     "text": [
      "root\n",
      " |-- value: string (nullable = true)\n",
      " |-- parsed: map (nullable = true)\n",
      " |    |-- key: string\n",
      " |    |-- value: string (valueContainsNull = true)\n",
      "\n"
     ]
    }
   ],
   "source": [
    "#Bingo!! we'got a column of type map with the fields parsed\n",
    "dfParsed.printSchema()"
   ]
  },
  {
   "cell_type": "code",
   "execution_count": 46,
   "metadata": {},
   "outputs": [
    {
     "data": {
      "text/html": [
       "<div>\n",
       "<style scoped>\n",
       "    .dataframe tbody tr th:only-of-type {\n",
       "        vertical-align: middle;\n",
       "    }\n",
       "\n",
       "    .dataframe tbody tr th {\n",
       "        vertical-align: top;\n",
       "    }\n",
       "\n",
       "    .dataframe thead th {\n",
       "        text-align: right;\n",
       "    }\n",
       "</style>\n",
       "<table border=\"1\" class=\"dataframe\">\n",
       "  <thead>\n",
       "    <tr style=\"text-align: right;\">\n",
       "      <th></th>\n",
       "      <th>value</th>\n",
       "      <th>parsed</th>\n",
       "    </tr>\n",
       "  </thead>\n",
       "  <tbody>\n",
       "    <tr>\n",
       "      <th>0</th>\n",
       "      <td>199.72.81.55 - - [01/Jul/1995:00:00:01 -0400] \"GET /history/apollo/ HTTP/1.0\" 200 6245</td>\n",
       "      <td>{'response_code': '200', 'protocol': 'HTTP/1.0', 'endpoint': '/history/apollo/', 'content_size': '6245', 'method': 'GET', 'date_time': '01/Jul/1995:00:00:01 -0400', 'user_id': '-', 'host': '199.72.81.55', 'client_identd': '-'}</td>\n",
       "    </tr>\n",
       "    <tr>\n",
       "      <th>1</th>\n",
       "      <td>unicomp6.unicomp.net - - [01/Jul/1995:00:00:06 -0400] \"GET /shuttle/countdown/ HTTP/1.0\" 200 3985</td>\n",
       "      <td>{'response_code': '200', 'protocol': 'HTTP/1.0', 'endpoint': '/shuttle/countdown/', 'content_size': '3985', 'method': 'GET', 'date_time': '01/Jul/1995:00:00:06 -0400', 'user_id': '-', 'host': 'unicomp6.unicomp.net', 'client_identd': '-'}</td>\n",
       "    </tr>\n",
       "    <tr>\n",
       "      <th>2</th>\n",
       "      <td>199.120.110.21 - - [01/Jul/1995:00:00:09 -0400] \"GET /shuttle/missions/sts-73/mission-sts-73.html HTTP/1.0\" 200 4085</td>\n",
       "      <td>{'response_code': '200', 'protocol': 'HTTP/1.0', 'endpoint': '/shuttle/missions/sts-73/mission-sts-73.html', 'content_size': '4085', 'method': 'GET', 'date_time': '01/Jul/1995:00:00:09 -0400', 'user_id': '-', 'host': '199.120.110.21', 'client_identd': '-'}</td>\n",
       "    </tr>\n",
       "    <tr>\n",
       "      <th>3</th>\n",
       "      <td>burger.letters.com - - [01/Jul/1995:00:00:11 -0400] \"GET /shuttle/countdown/liftoff.html HTTP/1.0\" 304 0</td>\n",
       "      <td>{'response_code': '304', 'protocol': 'HTTP/1.0', 'endpoint': '/shuttle/countdown/liftoff.html', 'content_size': '0', 'method': 'GET', 'date_time': '01/Jul/1995:00:00:11 -0400', 'user_id': '-', 'host': 'burger.letters.com', 'client_identd': '-'}</td>\n",
       "    </tr>\n",
       "    <tr>\n",
       "      <th>4</th>\n",
       "      <td>199.120.110.21 - - [01/Jul/1995:00:00:11 -0400] \"GET /shuttle/missions/sts-73/sts-73-patch-small.gif HTTP/1.0\" 200 4179</td>\n",
       "      <td>{'response_code': '200', 'protocol': 'HTTP/1.0', 'endpoint': '/shuttle/missions/sts-73/sts-73-patch-small.gif', 'content_size': '4179', 'method': 'GET', 'date_time': '01/Jul/1995:00:00:11 -0400', 'user_id': '-', 'host': '199.120.110.21', 'client_identd': '-'}</td>\n",
       "    </tr>\n",
       "    <tr>\n",
       "      <th>5</th>\n",
       "      <td>burger.letters.com - - [01/Jul/1995:00:00:12 -0400] \"GET /images/NASA-logosmall.gif HTTP/1.0\" 304 0</td>\n",
       "      <td>{'response_code': '304', 'protocol': 'HTTP/1.0', 'endpoint': '/images/NASA-logosmall.gif', 'content_size': '0', 'method': 'GET', 'date_time': '01/Jul/1995:00:00:12 -0400', 'user_id': '-', 'host': 'burger.letters.com', 'client_identd': '-'}</td>\n",
       "    </tr>\n",
       "    <tr>\n",
       "      <th>6</th>\n",
       "      <td>burger.letters.com - - [01/Jul/1995:00:00:12 -0400] \"GET /shuttle/countdown/video/livevideo.gif HTTP/1.0\" 200 0</td>\n",
       "      <td>{'response_code': '200', 'protocol': 'HTTP/1.0', 'endpoint': '/shuttle/countdown/video/livevideo.gif', 'content_size': '0', 'method': 'GET', 'date_time': '01/Jul/1995:00:00:12 -0400', 'user_id': '-', 'host': 'burger.letters.com', 'client_identd': '-'}</td>\n",
       "    </tr>\n",
       "    <tr>\n",
       "      <th>7</th>\n",
       "      <td>205.212.115.106 - - [01/Jul/1995:00:00:12 -0400] \"GET /shuttle/countdown/countdown.html HTTP/1.0\" 200 3985</td>\n",
       "      <td>{'response_code': '200', 'protocol': 'HTTP/1.0', 'endpoint': '/shuttle/countdown/countdown.html', 'content_size': '3985', 'method': 'GET', 'date_time': '01/Jul/1995:00:00:12 -0400', 'user_id': '-', 'host': '205.212.115.106', 'client_identd': '-'}</td>\n",
       "    </tr>\n",
       "    <tr>\n",
       "      <th>8</th>\n",
       "      <td>d104.aa.net - - [01/Jul/1995:00:00:13 -0400] \"GET /shuttle/countdown/ HTTP/1.0\" 200 3985</td>\n",
       "      <td>{'response_code': '200', 'protocol': 'HTTP/1.0', 'endpoint': '/shuttle/countdown/', 'content_size': '3985', 'method': 'GET', 'date_time': '01/Jul/1995:00:00:13 -0400', 'user_id': '-', 'host': 'd104.aa.net', 'client_identd': '-'}</td>\n",
       "    </tr>\n",
       "    <tr>\n",
       "      <th>9</th>\n",
       "      <td>129.94.144.152 - - [01/Jul/1995:00:00:13 -0400] \"GET / HTTP/1.0\" 200 7074</td>\n",
       "      <td>{'response_code': '200', 'protocol': 'HTTP/1.0', 'endpoint': '/', 'content_size': '7074', 'method': 'GET', 'date_time': '01/Jul/1995:00:00:13 -0400', 'user_id': '-', 'host': '129.94.144.152', 'client_identd': '-'}</td>\n",
       "    </tr>\n",
       "    <tr>\n",
       "      <th>10</th>\n",
       "      <td>unicomp6.unicomp.net - - [01/Jul/1995:00:00:14 -0400] \"GET /shuttle/countdown/count.gif HTTP/1.0\" 200 40310</td>\n",
       "      <td>{'response_code': '200', 'protocol': 'HTTP/1.0', 'endpoint': '/shuttle/countdown/count.gif', 'content_size': '40310', 'method': 'GET', 'date_time': '01/Jul/1995:00:00:14 -0400', 'user_id': '-', 'host': 'unicomp6.unicomp.net', 'client_identd': '-'}</td>\n",
       "    </tr>\n",
       "    <tr>\n",
       "      <th>11</th>\n",
       "      <td>unicomp6.unicomp.net - - [01/Jul/1995:00:00:14 -0400] \"GET /images/NASA-logosmall.gif HTTP/1.0\" 200 786</td>\n",
       "      <td>{'response_code': '200', 'protocol': 'HTTP/1.0', 'endpoint': '/images/NASA-logosmall.gif', 'content_size': '786', 'method': 'GET', 'date_time': '01/Jul/1995:00:00:14 -0400', 'user_id': '-', 'host': 'unicomp6.unicomp.net', 'client_identd': '-'}</td>\n",
       "    </tr>\n",
       "  </tbody>\n",
       "</table>\n",
       "</div>"
      ],
      "text/plain": [
       "                                                                                                                      value  \\\n",
       "0                                    199.72.81.55 - - [01/Jul/1995:00:00:01 -0400] \"GET /history/apollo/ HTTP/1.0\" 200 6245   \n",
       "1                         unicomp6.unicomp.net - - [01/Jul/1995:00:00:06 -0400] \"GET /shuttle/countdown/ HTTP/1.0\" 200 3985   \n",
       "2      199.120.110.21 - - [01/Jul/1995:00:00:09 -0400] \"GET /shuttle/missions/sts-73/mission-sts-73.html HTTP/1.0\" 200 4085   \n",
       "3                  burger.letters.com - - [01/Jul/1995:00:00:11 -0400] \"GET /shuttle/countdown/liftoff.html HTTP/1.0\" 304 0   \n",
       "4   199.120.110.21 - - [01/Jul/1995:00:00:11 -0400] \"GET /shuttle/missions/sts-73/sts-73-patch-small.gif HTTP/1.0\" 200 4179   \n",
       "5                       burger.letters.com - - [01/Jul/1995:00:00:12 -0400] \"GET /images/NASA-logosmall.gif HTTP/1.0\" 304 0   \n",
       "6           burger.letters.com - - [01/Jul/1995:00:00:12 -0400] \"GET /shuttle/countdown/video/livevideo.gif HTTP/1.0\" 200 0   \n",
       "7                205.212.115.106 - - [01/Jul/1995:00:00:12 -0400] \"GET /shuttle/countdown/countdown.html HTTP/1.0\" 200 3985   \n",
       "8                                  d104.aa.net - - [01/Jul/1995:00:00:13 -0400] \"GET /shuttle/countdown/ HTTP/1.0\" 200 3985   \n",
       "9                                                 129.94.144.152 - - [01/Jul/1995:00:00:13 -0400] \"GET / HTTP/1.0\" 200 7074   \n",
       "10              unicomp6.unicomp.net - - [01/Jul/1995:00:00:14 -0400] \"GET /shuttle/countdown/count.gif HTTP/1.0\" 200 40310   \n",
       "11                  unicomp6.unicomp.net - - [01/Jul/1995:00:00:14 -0400] \"GET /images/NASA-logosmall.gif HTTP/1.0\" 200 786   \n",
       "\n",
       "                                                                                                                                                                                                                                                                 parsed  \n",
       "0                                    {'response_code': '200', 'protocol': 'HTTP/1.0', 'endpoint': '/history/apollo/', 'content_size': '6245', 'method': 'GET', 'date_time': '01/Jul/1995:00:00:01 -0400', 'user_id': '-', 'host': '199.72.81.55', 'client_identd': '-'}  \n",
       "1                         {'response_code': '200', 'protocol': 'HTTP/1.0', 'endpoint': '/shuttle/countdown/', 'content_size': '3985', 'method': 'GET', 'date_time': '01/Jul/1995:00:00:06 -0400', 'user_id': '-', 'host': 'unicomp6.unicomp.net', 'client_identd': '-'}  \n",
       "2      {'response_code': '200', 'protocol': 'HTTP/1.0', 'endpoint': '/shuttle/missions/sts-73/mission-sts-73.html', 'content_size': '4085', 'method': 'GET', 'date_time': '01/Jul/1995:00:00:09 -0400', 'user_id': '-', 'host': '199.120.110.21', 'client_identd': '-'}  \n",
       "3                  {'response_code': '304', 'protocol': 'HTTP/1.0', 'endpoint': '/shuttle/countdown/liftoff.html', 'content_size': '0', 'method': 'GET', 'date_time': '01/Jul/1995:00:00:11 -0400', 'user_id': '-', 'host': 'burger.letters.com', 'client_identd': '-'}  \n",
       "4   {'response_code': '200', 'protocol': 'HTTP/1.0', 'endpoint': '/shuttle/missions/sts-73/sts-73-patch-small.gif', 'content_size': '4179', 'method': 'GET', 'date_time': '01/Jul/1995:00:00:11 -0400', 'user_id': '-', 'host': '199.120.110.21', 'client_identd': '-'}  \n",
       "5                       {'response_code': '304', 'protocol': 'HTTP/1.0', 'endpoint': '/images/NASA-logosmall.gif', 'content_size': '0', 'method': 'GET', 'date_time': '01/Jul/1995:00:00:12 -0400', 'user_id': '-', 'host': 'burger.letters.com', 'client_identd': '-'}  \n",
       "6           {'response_code': '200', 'protocol': 'HTTP/1.0', 'endpoint': '/shuttle/countdown/video/livevideo.gif', 'content_size': '0', 'method': 'GET', 'date_time': '01/Jul/1995:00:00:12 -0400', 'user_id': '-', 'host': 'burger.letters.com', 'client_identd': '-'}  \n",
       "7                {'response_code': '200', 'protocol': 'HTTP/1.0', 'endpoint': '/shuttle/countdown/countdown.html', 'content_size': '3985', 'method': 'GET', 'date_time': '01/Jul/1995:00:00:12 -0400', 'user_id': '-', 'host': '205.212.115.106', 'client_identd': '-'}  \n",
       "8                                  {'response_code': '200', 'protocol': 'HTTP/1.0', 'endpoint': '/shuttle/countdown/', 'content_size': '3985', 'method': 'GET', 'date_time': '01/Jul/1995:00:00:13 -0400', 'user_id': '-', 'host': 'd104.aa.net', 'client_identd': '-'}  \n",
       "9                                                 {'response_code': '200', 'protocol': 'HTTP/1.0', 'endpoint': '/', 'content_size': '7074', 'method': 'GET', 'date_time': '01/Jul/1995:00:00:13 -0400', 'user_id': '-', 'host': '129.94.144.152', 'client_identd': '-'}  \n",
       "10              {'response_code': '200', 'protocol': 'HTTP/1.0', 'endpoint': '/shuttle/countdown/count.gif', 'content_size': '40310', 'method': 'GET', 'date_time': '01/Jul/1995:00:00:14 -0400', 'user_id': '-', 'host': 'unicomp6.unicomp.net', 'client_identd': '-'}  \n",
       "11                  {'response_code': '200', 'protocol': 'HTTP/1.0', 'endpoint': '/images/NASA-logosmall.gif', 'content_size': '786', 'method': 'GET', 'date_time': '01/Jul/1995:00:00:14 -0400', 'user_id': '-', 'host': 'unicomp6.unicomp.net', 'client_identd': '-'}  "
      ]
     },
     "execution_count": 46,
     "metadata": {},
     "output_type": "execute_result"
    }
   ],
   "source": [
    "#dfParsed.show(10, truncate=False)\n",
    "#dfParsed.select(\"parsed\").limit(10).show()\n",
    "dfParsed.limit(12).toPandas()\n"
   ]
  },
  {
   "cell_type": "markdown",
   "metadata": {},
   "source": [
    "# Let's build separate columns"
   ]
  },
  {
   "cell_type": "code",
   "execution_count": 47,
   "metadata": {},
   "outputs": [
    {
     "name": "stdout",
     "output_type": "stream",
     "text": [
      "+--------------------+\n",
      "|                host|\n",
      "+--------------------+\n",
      "|        199.72.81.55|\n",
      "|unicomp6.unicomp.net|\n",
      "|      199.120.110.21|\n",
      "|  burger.letters.com|\n",
      "|      199.120.110.21|\n",
      "+--------------------+\n",
      "\n"
     ]
    }
   ],
   "source": [
    "dfParsed.selectExpr(\"parsed['host'] as host\").limit(5).show(5)"
   ]
  },
  {
   "cell_type": "code",
   "execution_count": 48,
   "metadata": {},
   "outputs": [
    {
     "name": "stdout",
     "output_type": "stream",
     "text": [
      "+--------------------+--------------------+\n",
      "|        parsed[host]|   parsed[date_time]|\n",
      "+--------------------+--------------------+\n",
      "|        199.72.81.55|01/Jul/1995:00:00...|\n",
      "|unicomp6.unicomp.net|01/Jul/1995:00:00...|\n",
      "|      199.120.110.21|01/Jul/1995:00:00...|\n",
      "|  burger.letters.com|01/Jul/1995:00:00...|\n",
      "|      199.120.110.21|01/Jul/1995:00:00...|\n",
      "+--------------------+--------------------+\n",
      "only showing top 5 rows\n",
      "\n"
     ]
    }
   ],
   "source": [
    "dfParsed.selectExpr([\"parsed['host']\", \"parsed['date_time']\"]).show(5)"
   ]
  },
  {
   "cell_type": "code",
   "execution_count": 49,
   "metadata": {},
   "outputs": [
    {
     "name": "stdout",
     "output_type": "stream",
     "text": [
      "[\"parsed['host'] as host\", \"parsed['client_identd'] as client_identd\", \"parsed['user_id'] as user_id\", \"parsed['date_time'] as date_time\", \"parsed['method'] as method\", \"parsed['endpoint'] as endpoint\", \"parsed['protocol'] as protocol\", \"parsed['response_code'] as response_code\", \"parsed['content_size'] as content_size\"]\n"
     ]
    }
   ],
   "source": [
    "fields = [\"host\", \"client_identd\",\"user_id\", \"date_time\", \"method\", \"endpoint\", \"protocol\", \"response_code\", \"content_size\"]\n",
    "exprs = list()\n",
    "for field in fields:\n",
    "    expr1 = \"parsed['\" + field + \"'] as \" + field\n",
    "    exprs.append(expr1)\n",
    "print(exprs)\n"
   ]
  },
  {
   "cell_type": "code",
   "execution_count": 50,
   "metadata": {},
   "outputs": [
    {
     "data": {
      "text/html": [
       "<div>\n",
       "<style scoped>\n",
       "    .dataframe tbody tr th:only-of-type {\n",
       "        vertical-align: middle;\n",
       "    }\n",
       "\n",
       "    .dataframe tbody tr th {\n",
       "        vertical-align: top;\n",
       "    }\n",
       "\n",
       "    .dataframe thead th {\n",
       "        text-align: right;\n",
       "    }\n",
       "</style>\n",
       "<table border=\"1\" class=\"dataframe\">\n",
       "  <thead>\n",
       "    <tr style=\"text-align: right;\">\n",
       "      <th></th>\n",
       "      <th>host</th>\n",
       "      <th>client_identd</th>\n",
       "      <th>user_id</th>\n",
       "      <th>date_time</th>\n",
       "      <th>method</th>\n",
       "      <th>endpoint</th>\n",
       "      <th>protocol</th>\n",
       "      <th>response_code</th>\n",
       "      <th>content_size</th>\n",
       "    </tr>\n",
       "  </thead>\n",
       "  <tbody>\n",
       "    <tr>\n",
       "      <th>0</th>\n",
       "      <td>199.72.81.55</td>\n",
       "      <td>-</td>\n",
       "      <td>-</td>\n",
       "      <td>01/Jul/1995:00:00:01 -0400</td>\n",
       "      <td>GET</td>\n",
       "      <td>/history/apollo/</td>\n",
       "      <td>HTTP/1.0</td>\n",
       "      <td>200</td>\n",
       "      <td>6245</td>\n",
       "    </tr>\n",
       "    <tr>\n",
       "      <th>1</th>\n",
       "      <td>unicomp6.unicomp.net</td>\n",
       "      <td>-</td>\n",
       "      <td>-</td>\n",
       "      <td>01/Jul/1995:00:00:06 -0400</td>\n",
       "      <td>GET</td>\n",
       "      <td>/shuttle/countdown/</td>\n",
       "      <td>HTTP/1.0</td>\n",
       "      <td>200</td>\n",
       "      <td>3985</td>\n",
       "    </tr>\n",
       "    <tr>\n",
       "      <th>2</th>\n",
       "      <td>199.120.110.21</td>\n",
       "      <td>-</td>\n",
       "      <td>-</td>\n",
       "      <td>01/Jul/1995:00:00:09 -0400</td>\n",
       "      <td>GET</td>\n",
       "      <td>/shuttle/missions/sts-73/mission-sts-73.html</td>\n",
       "      <td>HTTP/1.0</td>\n",
       "      <td>200</td>\n",
       "      <td>4085</td>\n",
       "    </tr>\n",
       "    <tr>\n",
       "      <th>3</th>\n",
       "      <td>burger.letters.com</td>\n",
       "      <td>-</td>\n",
       "      <td>-</td>\n",
       "      <td>01/Jul/1995:00:00:11 -0400</td>\n",
       "      <td>GET</td>\n",
       "      <td>/shuttle/countdown/liftoff.html</td>\n",
       "      <td>HTTP/1.0</td>\n",
       "      <td>304</td>\n",
       "      <td>0</td>\n",
       "    </tr>\n",
       "    <tr>\n",
       "      <th>4</th>\n",
       "      <td>199.120.110.21</td>\n",
       "      <td>-</td>\n",
       "      <td>-</td>\n",
       "      <td>01/Jul/1995:00:00:11 -0400</td>\n",
       "      <td>GET</td>\n",
       "      <td>/shuttle/missions/sts-73/sts-73-patch-small.gif</td>\n",
       "      <td>HTTP/1.0</td>\n",
       "      <td>200</td>\n",
       "      <td>4179</td>\n",
       "    </tr>\n",
       "  </tbody>\n",
       "</table>\n",
       "</div>"
      ],
      "text/plain": [
       "                   host client_identd user_id                   date_time  \\\n",
       "0          199.72.81.55             -       -  01/Jul/1995:00:00:01 -0400   \n",
       "1  unicomp6.unicomp.net             -       -  01/Jul/1995:00:00:06 -0400   \n",
       "2        199.120.110.21             -       -  01/Jul/1995:00:00:09 -0400   \n",
       "3    burger.letters.com             -       -  01/Jul/1995:00:00:11 -0400   \n",
       "4        199.120.110.21             -       -  01/Jul/1995:00:00:11 -0400   \n",
       "\n",
       "  method                                         endpoint  protocol  \\\n",
       "0    GET                                 /history/apollo/  HTTP/1.0   \n",
       "1    GET                              /shuttle/countdown/  HTTP/1.0   \n",
       "2    GET     /shuttle/missions/sts-73/mission-sts-73.html  HTTP/1.0   \n",
       "3    GET                  /shuttle/countdown/liftoff.html  HTTP/1.0   \n",
       "4    GET  /shuttle/missions/sts-73/sts-73-patch-small.gif  HTTP/1.0   \n",
       "\n",
       "  response_code content_size  \n",
       "0           200         6245  \n",
       "1           200         3985  \n",
       "2           200         4085  \n",
       "3           304            0  \n",
       "4           200         4179  "
      ]
     },
     "execution_count": 50,
     "metadata": {},
     "output_type": "execute_result"
    }
   ],
   "source": [
    "dfClean = dfParsed.selectExpr(*exprs)\n",
    "dfClean.limit(5).toPandas()"
   ]
  },
  {
   "cell_type": "markdown",
   "metadata": {},
   "source": [
    "## Popular hosts"
   ]
  },
  {
   "cell_type": "code",
   "execution_count": 51,
   "metadata": {},
   "outputs": [
    {
     "name": "stdout",
     "output_type": "stream",
     "text": [
      "                    host  count\n",
      "0                   None  24442\n",
      "1   piweba3y.prodigy.com  17381\n",
      "2   piweba4y.prodigy.com  11489\n",
      "3   piweba1y.prodigy.com   9730\n",
      "4     alyssa.prodigy.com   7766\n",
      "5    siltb10.orl.mmc.com   7573\n",
      "6   piweba2y.prodigy.com   5861\n",
      "7     edams.ksc.nasa.gov   5397\n",
      "8           163.206.89.4   4870\n",
      "9            news.ti.com   4827\n",
      "10  disarray.demon.co.uk   4317\n",
      "11    vagrant.vf.mmc.com   4133\n",
      "12     poppy.hensa.ac.uk   4095\n",
      "13         198.133.29.18   4086\n",
      "14  www-a2.proxy.aol.com   4079\n"
     ]
    }
   ],
   "source": [
    "import pyspark.sql.functions as func\n",
    "dfClean1 = dfClean.groupBy(\"host\").count().orderBy(func.desc(\"count\")).limit(15)\n",
    "print(dfClean1.toPandas())"
   ]
  },
  {
   "cell_type": "markdown",
   "metadata": {},
   "source": [
    "## Popular content"
   ]
  },
  {
   "cell_type": "code",
   "execution_count": 52,
   "metadata": {},
   "outputs": [
    {
     "name": "stdout",
     "output_type": "stream",
     "text": [
      "                       endpoint   count\n",
      "0    /images/NASA-logosmall.gif  111086\n",
      "1     /images/KSC-logosmall.gif   89529\n",
      "2  /images/MOSAIC-logosmall.gif   60299\n",
      "3     /images/USA-logosmall.gif   59844\n",
      "4   /images/WORLD-logosmall.gif   59324\n",
      "5    /images/ksclogo-medium.gif   58615\n",
      "6       /images/launch-logo.gif   40841\n",
      "7           /shuttle/countdown/   40248\n",
      "8                     /ksc.html   40057\n",
      "9      /images/ksclogosmall.gif   33555\n"
     ]
    }
   ],
   "source": [
    "from pyspark.sql.functions import desc\n",
    "dfClean2 = dfClean.groupBy(\"endpoint\").count().sort(desc(\"count\")).limit(10)\n",
    "print(dfClean2.toPandas())"
   ]
  },
  {
   "cell_type": "markdown",
   "metadata": {},
   "source": [
    "## Large Files"
   ]
  },
  {
   "cell_type": "code",
   "execution_count": 53,
   "metadata": {},
   "outputs": [
    {
     "name": "stdout",
     "output_type": "stream",
     "text": [
      "root\n",
      " |-- host: string (nullable = true)\n",
      " |-- client_identd: string (nullable = true)\n",
      " |-- user_id: string (nullable = true)\n",
      " |-- date_time: string (nullable = true)\n",
      " |-- method: string (nullable = true)\n",
      " |-- endpoint: string (nullable = true)\n",
      " |-- protocol: string (nullable = true)\n",
      " |-- response_code: string (nullable = true)\n",
      " |-- content_size: string (nullable = true)\n",
      "\n",
      "None\n",
      "                                            endpoint content_size\n",
      "0                     /images/cdrom-1-95/img0007.jpg        99981\n",
      "1  /shuttle/missions/sts-71/movies/sts-71-launch.mpg       999424\n",
      "2  /shuttle/missions/sts-71/movies/sts-71-launch.mpg       999424\n",
      "3         /history/apollo/apollo-13/images/index.gif        99942\n",
      "4         /history/apollo/apollo-13/images/index.gif        99942\n",
      "5         /history/apollo/apollo-13/images/index.gif        99942\n",
      "6         /history/apollo/apollo-13/images/index.gif        99942\n",
      "7         /history/apollo/apollo-13/images/index.gif        99942\n",
      "8         /history/apollo/apollo-13/images/index.gif        99942\n",
      "9         /history/apollo/apollo-13/images/index.gif        99942\n"
     ]
    }
   ],
   "source": [
    "#dfClean.createOrReplaceTempView(\"cleanlog\")\n",
    "#spark.sql(\"\"\"\n",
    "#select endpoint, content_size\n",
    "#from cleanlog \n",
    "#order by content_size desc\n",
    "#\"\"\").limit(10).toPandas()\n",
    "\n",
    "from pyspark.sql.functions import desc\n",
    "\n",
    "print(dfClean.printSchema())\n",
    "dfClean_content = dfClean.select(dfClean.endpoint, dfClean.content_size).orderBy(desc(\"content_size\")).limit(10)\n",
    "print(dfClean_content.toPandas())"
   ]
  },
  {
   "cell_type": "code",
   "execution_count": 54,
   "metadata": {},
   "outputs": [],
   "source": [
    "#from pyspark.sql.functions import expr\n",
    "#dfCleanTyped = # Todo"
   ]
  },
  {
   "cell_type": "code",
   "execution_count": 55,
   "metadata": {},
   "outputs": [
    {
     "name": "stdout",
     "output_type": "stream",
     "text": [
      "root\n",
      " |-- host: string (nullable = true)\n",
      " |-- client_identd: string (nullable = true)\n",
      " |-- user_id: string (nullable = true)\n",
      " |-- date_time: string (nullable = true)\n",
      " |-- method: string (nullable = true)\n",
      " |-- endpoint: string (nullable = true)\n",
      " |-- protocol: string (nullable = true)\n",
      " |-- response_code: string (nullable = true)\n",
      " |-- content_size: string (nullable = true)\n",
      " |-- content_size_int: integer (nullable = true)\n",
      "\n",
      "None\n",
      "                                          endpoint  content_size_int\n",
      "0          /shuttle/countdown/video/livevideo.jpeg           6823936\n",
      "1            /statistics/1995/bkup/Mar95_full.html           3155499\n",
      "2            /statistics/1995/bkup/Mar95_full.html           3155499\n",
      "3            /statistics/1995/bkup/Mar95_full.html           3155499\n",
      "4  /statistics/1995/Jun/Jun95_reverse_domains.html           2973350\n",
      "5  /statistics/1995/Jun/Jun95_reverse_domains.html           2973350\n",
      "6  /statistics/1995/Jun/Jun95_reverse_domains.html           2973350\n",
      "7  /statistics/1995/Jun/Jun95_reverse_domains.html           2973350\n",
      "8  /statistics/1995/Jun/Jun95_reverse_domains.html           2973350\n",
      "9  /statistics/1995/Jun/Jun95_reverse_domains.html           2973350\n"
     ]
    }
   ],
   "source": [
    "#dfCleanTyped.createOrReplaceTempView(\"cleantypedlog\")\n",
    "#spark.sql(\"\"\"\n",
    "#select endpoint, content_size\n",
    "#from cleantypedlog \n",
    "#order by content_size_bytes desc\n",
    "#\"\"\").limit(10).toPandas()\n",
    "\n",
    "from pyspark.sql.types import IntegerType\n",
    "\n",
    "dfClean_new = dfClean.withColumn(\"content_size_int\", dfClean[\"content_size\"].cast(IntegerType()))\n",
    "print(dfClean_new.printSchema())\n",
    "dfClean_new_content = dfClean_new.select(\"endpoint\", \"content_size_int\").sort(desc(\"content_size_int\")).limit(10)\n",
    "print(dfClean_new_content.toPandas())\n"
   ]
  },
  {
   "cell_type": "code",
   "execution_count": 56,
   "metadata": {},
   "outputs": [],
   "source": [
    "# Left for you, clean the date column :)\n",
    "# 1- Create a udf that parses that weird format,\n",
    "# 2- Create a new column with a data tiem string that spark would understand\n",
    "# 3- Add a new date-time column properly typed\n",
    "# 4- Print your schema"
   ]
  },
  {
   "cell_type": "code",
   "execution_count": 77,
   "metadata": {},
   "outputs": [
    {
     "name": "stdout",
     "output_type": "stream",
     "text": [
      "{'date': '01/Jul/1995', 'time': '00:00:01'}\n"
     ]
    }
   ],
   "source": [
    "from pyspark.sql.functions import udf\n",
    "from pyspark.sql.types import IntegerType, FloatType, StringType\n",
    "from pyspark.sql.types import ArrayType, MapType\n",
    "import re\n",
    "\n",
    "string1 = \"01/Jul/1995:00:00:01 -0400\"\n",
    "pattern = \"^([0-9A-Za-z\\/]+)\\:(\\d+\\:\\d+\\:\\d+) \\-\"\n",
    "result = re.search(pattern, string1)\n",
    "dict_date_time = dict()\n",
    "dict_date_time[\"date\"] = result.group(1)\n",
    "dict_date_time[\"time\"] = result.group(2)\n",
    "print(dict_date_time)\n",
    "\n",
    "@udf(returnType=MapType(StringType(), StringType()))\n",
    "def format_date_time (line):\n",
    "    pattern = \"^([0-9A-Za-z\\/]+)\\:(\\d+\\:\\d+\\:\\d+) \\-\"\n",
    "    result = re.search(pattern, str(line))\n",
    "    if result is None:\n",
    "        return(string1, 0)\n",
    "    dict_date_time = dict()\n",
    "    if not result.group(1) is None:\n",
    "        dict_date_time[\"date\"] = result.group(1)\n",
    "    else:\n",
    "        dict_date_time[\"date\"] = 0\n",
    "    if not result.group(2) is None:\n",
    "        dict_date_time[\"time\"] = result.group(2)\n",
    "    else:\n",
    "        dict_date_time[\"time\"] = 0\n",
    "    return dict_date_time\n",
    "    "
   ]
  },
  {
   "cell_type": "code",
   "execution_count": 78,
   "metadata": {},
   "outputs": [
    {
     "name": "stdout",
     "output_type": "stream",
     "text": [
      "root\n",
      " |-- host: string (nullable = true)\n",
      " |-- client_identd: string (nullable = true)\n",
      " |-- user_id: string (nullable = true)\n",
      " |-- date_time: string (nullable = true)\n",
      " |-- method: string (nullable = true)\n",
      " |-- endpoint: string (nullable = true)\n",
      " |-- protocol: string (nullable = true)\n",
      " |-- response_code: string (nullable = true)\n",
      " |-- content_size: string (nullable = true)\n",
      " |-- date_time_new: map (nullable = true)\n",
      " |    |-- key: string\n",
      " |    |-- value: string (valueContainsNull = true)\n",
      "\n"
     ]
    },
    {
     "data": {
      "text/html": [
       "<div>\n",
       "<style scoped>\n",
       "    .dataframe tbody tr th:only-of-type {\n",
       "        vertical-align: middle;\n",
       "    }\n",
       "\n",
       "    .dataframe tbody tr th {\n",
       "        vertical-align: top;\n",
       "    }\n",
       "\n",
       "    .dataframe thead th {\n",
       "        text-align: right;\n",
       "    }\n",
       "</style>\n",
       "<table border=\"1\" class=\"dataframe\">\n",
       "  <thead>\n",
       "    <tr style=\"text-align: right;\">\n",
       "      <th></th>\n",
       "      <th>host</th>\n",
       "      <th>client_identd</th>\n",
       "      <th>user_id</th>\n",
       "      <th>date_time</th>\n",
       "      <th>method</th>\n",
       "      <th>endpoint</th>\n",
       "      <th>protocol</th>\n",
       "      <th>response_code</th>\n",
       "      <th>content_size</th>\n",
       "      <th>date_time_new</th>\n",
       "    </tr>\n",
       "  </thead>\n",
       "  <tbody>\n",
       "    <tr>\n",
       "      <th>0</th>\n",
       "      <td>199.72.81.55</td>\n",
       "      <td>-</td>\n",
       "      <td>-</td>\n",
       "      <td>01/Jul/1995:00:00:01 -0400</td>\n",
       "      <td>GET</td>\n",
       "      <td>/history/apollo/</td>\n",
       "      <td>HTTP/1.0</td>\n",
       "      <td>200</td>\n",
       "      <td>6245</td>\n",
       "      <td>{'date': '01/Jul/1995', 'time': '00:00:01'}</td>\n",
       "    </tr>\n",
       "    <tr>\n",
       "      <th>1</th>\n",
       "      <td>unicomp6.unicomp.net</td>\n",
       "      <td>-</td>\n",
       "      <td>-</td>\n",
       "      <td>01/Jul/1995:00:00:06 -0400</td>\n",
       "      <td>GET</td>\n",
       "      <td>/shuttle/countdown/</td>\n",
       "      <td>HTTP/1.0</td>\n",
       "      <td>200</td>\n",
       "      <td>3985</td>\n",
       "      <td>{'date': '01/Jul/1995', 'time': '00:00:06'}</td>\n",
       "    </tr>\n",
       "    <tr>\n",
       "      <th>2</th>\n",
       "      <td>199.120.110.21</td>\n",
       "      <td>-</td>\n",
       "      <td>-</td>\n",
       "      <td>01/Jul/1995:00:00:09 -0400</td>\n",
       "      <td>GET</td>\n",
       "      <td>/shuttle/missions/sts-73/mission-sts-73.html</td>\n",
       "      <td>HTTP/1.0</td>\n",
       "      <td>200</td>\n",
       "      <td>4085</td>\n",
       "      <td>{'date': '01/Jul/1995', 'time': '00:00:09'}</td>\n",
       "    </tr>\n",
       "    <tr>\n",
       "      <th>3</th>\n",
       "      <td>burger.letters.com</td>\n",
       "      <td>-</td>\n",
       "      <td>-</td>\n",
       "      <td>01/Jul/1995:00:00:11 -0400</td>\n",
       "      <td>GET</td>\n",
       "      <td>/shuttle/countdown/liftoff.html</td>\n",
       "      <td>HTTP/1.0</td>\n",
       "      <td>304</td>\n",
       "      <td>0</td>\n",
       "      <td>{'date': '01/Jul/1995', 'time': '00:00:11'}</td>\n",
       "    </tr>\n",
       "    <tr>\n",
       "      <th>4</th>\n",
       "      <td>199.120.110.21</td>\n",
       "      <td>-</td>\n",
       "      <td>-</td>\n",
       "      <td>01/Jul/1995:00:00:11 -0400</td>\n",
       "      <td>GET</td>\n",
       "      <td>/shuttle/missions/sts-73/sts-73-patch-small.gif</td>\n",
       "      <td>HTTP/1.0</td>\n",
       "      <td>200</td>\n",
       "      <td>4179</td>\n",
       "      <td>{'date': '01/Jul/1995', 'time': '00:00:11'}</td>\n",
       "    </tr>\n",
       "    <tr>\n",
       "      <th>5</th>\n",
       "      <td>burger.letters.com</td>\n",
       "      <td>-</td>\n",
       "      <td>-</td>\n",
       "      <td>01/Jul/1995:00:00:12 -0400</td>\n",
       "      <td>GET</td>\n",
       "      <td>/images/NASA-logosmall.gif</td>\n",
       "      <td>HTTP/1.0</td>\n",
       "      <td>304</td>\n",
       "      <td>0</td>\n",
       "      <td>{'date': '01/Jul/1995', 'time': '00:00:12'}</td>\n",
       "    </tr>\n",
       "    <tr>\n",
       "      <th>6</th>\n",
       "      <td>burger.letters.com</td>\n",
       "      <td>-</td>\n",
       "      <td>-</td>\n",
       "      <td>01/Jul/1995:00:00:12 -0400</td>\n",
       "      <td>GET</td>\n",
       "      <td>/shuttle/countdown/video/livevideo.gif</td>\n",
       "      <td>HTTP/1.0</td>\n",
       "      <td>200</td>\n",
       "      <td>0</td>\n",
       "      <td>{'date': '01/Jul/1995', 'time': '00:00:12'}</td>\n",
       "    </tr>\n",
       "    <tr>\n",
       "      <th>7</th>\n",
       "      <td>205.212.115.106</td>\n",
       "      <td>-</td>\n",
       "      <td>-</td>\n",
       "      <td>01/Jul/1995:00:00:12 -0400</td>\n",
       "      <td>GET</td>\n",
       "      <td>/shuttle/countdown/countdown.html</td>\n",
       "      <td>HTTP/1.0</td>\n",
       "      <td>200</td>\n",
       "      <td>3985</td>\n",
       "      <td>{'date': '01/Jul/1995', 'time': '00:00:12'}</td>\n",
       "    </tr>\n",
       "    <tr>\n",
       "      <th>8</th>\n",
       "      <td>d104.aa.net</td>\n",
       "      <td>-</td>\n",
       "      <td>-</td>\n",
       "      <td>01/Jul/1995:00:00:13 -0400</td>\n",
       "      <td>GET</td>\n",
       "      <td>/shuttle/countdown/</td>\n",
       "      <td>HTTP/1.0</td>\n",
       "      <td>200</td>\n",
       "      <td>3985</td>\n",
       "      <td>{'date': '01/Jul/1995', 'time': '00:00:13'}</td>\n",
       "    </tr>\n",
       "    <tr>\n",
       "      <th>9</th>\n",
       "      <td>129.94.144.152</td>\n",
       "      <td>-</td>\n",
       "      <td>-</td>\n",
       "      <td>01/Jul/1995:00:00:13 -0400</td>\n",
       "      <td>GET</td>\n",
       "      <td>/</td>\n",
       "      <td>HTTP/1.0</td>\n",
       "      <td>200</td>\n",
       "      <td>7074</td>\n",
       "      <td>{'date': '01/Jul/1995', 'time': '00:00:13'}</td>\n",
       "    </tr>\n",
       "  </tbody>\n",
       "</table>\n",
       "</div>"
      ],
      "text/plain": [
       "                   host client_identd user_id                   date_time  \\\n",
       "0          199.72.81.55             -       -  01/Jul/1995:00:00:01 -0400   \n",
       "1  unicomp6.unicomp.net             -       -  01/Jul/1995:00:00:06 -0400   \n",
       "2        199.120.110.21             -       -  01/Jul/1995:00:00:09 -0400   \n",
       "3    burger.letters.com             -       -  01/Jul/1995:00:00:11 -0400   \n",
       "4        199.120.110.21             -       -  01/Jul/1995:00:00:11 -0400   \n",
       "5    burger.letters.com             -       -  01/Jul/1995:00:00:12 -0400   \n",
       "6    burger.letters.com             -       -  01/Jul/1995:00:00:12 -0400   \n",
       "7       205.212.115.106             -       -  01/Jul/1995:00:00:12 -0400   \n",
       "8           d104.aa.net             -       -  01/Jul/1995:00:00:13 -0400   \n",
       "9        129.94.144.152             -       -  01/Jul/1995:00:00:13 -0400   \n",
       "\n",
       "  method                                         endpoint  protocol  \\\n",
       "0    GET                                 /history/apollo/  HTTP/1.0   \n",
       "1    GET                              /shuttle/countdown/  HTTP/1.0   \n",
       "2    GET     /shuttle/missions/sts-73/mission-sts-73.html  HTTP/1.0   \n",
       "3    GET                  /shuttle/countdown/liftoff.html  HTTP/1.0   \n",
       "4    GET  /shuttle/missions/sts-73/sts-73-patch-small.gif  HTTP/1.0   \n",
       "5    GET                       /images/NASA-logosmall.gif  HTTP/1.0   \n",
       "6    GET           /shuttle/countdown/video/livevideo.gif  HTTP/1.0   \n",
       "7    GET                /shuttle/countdown/countdown.html  HTTP/1.0   \n",
       "8    GET                              /shuttle/countdown/  HTTP/1.0   \n",
       "9    GET                                                /  HTTP/1.0   \n",
       "\n",
       "  response_code content_size                                date_time_new  \n",
       "0           200         6245  {'date': '01/Jul/1995', 'time': '00:00:01'}  \n",
       "1           200         3985  {'date': '01/Jul/1995', 'time': '00:00:06'}  \n",
       "2           200         4085  {'date': '01/Jul/1995', 'time': '00:00:09'}  \n",
       "3           304            0  {'date': '01/Jul/1995', 'time': '00:00:11'}  \n",
       "4           200         4179  {'date': '01/Jul/1995', 'time': '00:00:11'}  \n",
       "5           304            0  {'date': '01/Jul/1995', 'time': '00:00:12'}  \n",
       "6           200            0  {'date': '01/Jul/1995', 'time': '00:00:12'}  \n",
       "7           200         3985  {'date': '01/Jul/1995', 'time': '00:00:12'}  \n",
       "8           200         3985  {'date': '01/Jul/1995', 'time': '00:00:13'}  \n",
       "9           200         7074  {'date': '01/Jul/1995', 'time': '00:00:13'}  "
      ]
     },
     "execution_count": 78,
     "metadata": {},
     "output_type": "execute_result"
    }
   ],
   "source": [
    "dfClean_date_time = dfClean.withColumn(\"date_time_new\", format_date_time(\"date_time\"))\n",
    "dfClean_date_time.printSchema()\n",
    "dfClean_date_time.limit(10).toPandas()"
   ]
  },
  {
   "cell_type": "code",
   "execution_count": 82,
   "metadata": {},
   "outputs": [
    {
     "name": "stdout",
     "output_type": "stream",
     "text": [
      "[\"date_time_new['date'] as date\", \"date_time_new['time'] as time\"]\n"
     ]
    }
   ],
   "source": [
    "list1 = ['date', 'time']\n",
    "new_list = list()\n",
    "for item in list1:\n",
    "    string1 = \"date_time_new['\" + item + \"'] as \" + item\n",
    "    new_list.append(string1)\n",
    "print(new_list)"
   ]
  },
  {
   "cell_type": "code",
   "execution_count": 84,
   "metadata": {},
   "outputs": [
    {
     "data": {
      "text/html": [
       "<div>\n",
       "<style scoped>\n",
       "    .dataframe tbody tr th:only-of-type {\n",
       "        vertical-align: middle;\n",
       "    }\n",
       "\n",
       "    .dataframe tbody tr th {\n",
       "        vertical-align: top;\n",
       "    }\n",
       "\n",
       "    .dataframe thead th {\n",
       "        text-align: right;\n",
       "    }\n",
       "</style>\n",
       "<table border=\"1\" class=\"dataframe\">\n",
       "  <thead>\n",
       "    <tr style=\"text-align: right;\">\n",
       "      <th></th>\n",
       "      <th>host</th>\n",
       "      <th>client_identd</th>\n",
       "      <th>user_id</th>\n",
       "      <th>date_time</th>\n",
       "      <th>method</th>\n",
       "      <th>endpoint</th>\n",
       "      <th>protocol</th>\n",
       "      <th>response_code</th>\n",
       "      <th>content_size</th>\n",
       "      <th>date_time_new</th>\n",
       "      <th>date</th>\n",
       "      <th>time</th>\n",
       "    </tr>\n",
       "  </thead>\n",
       "  <tbody>\n",
       "    <tr>\n",
       "      <th>0</th>\n",
       "      <td>199.72.81.55</td>\n",
       "      <td>-</td>\n",
       "      <td>-</td>\n",
       "      <td>01/Jul/1995:00:00:01 -0400</td>\n",
       "      <td>GET</td>\n",
       "      <td>/history/apollo/</td>\n",
       "      <td>HTTP/1.0</td>\n",
       "      <td>200</td>\n",
       "      <td>6245</td>\n",
       "      <td>{'date': '01/Jul/1995', 'time': '00:00:01'}</td>\n",
       "      <td>01/Jul/1995</td>\n",
       "      <td>00:00:01</td>\n",
       "    </tr>\n",
       "    <tr>\n",
       "      <th>1</th>\n",
       "      <td>unicomp6.unicomp.net</td>\n",
       "      <td>-</td>\n",
       "      <td>-</td>\n",
       "      <td>01/Jul/1995:00:00:06 -0400</td>\n",
       "      <td>GET</td>\n",
       "      <td>/shuttle/countdown/</td>\n",
       "      <td>HTTP/1.0</td>\n",
       "      <td>200</td>\n",
       "      <td>3985</td>\n",
       "      <td>{'date': '01/Jul/1995', 'time': '00:00:06'}</td>\n",
       "      <td>01/Jul/1995</td>\n",
       "      <td>00:00:06</td>\n",
       "    </tr>\n",
       "    <tr>\n",
       "      <th>2</th>\n",
       "      <td>199.120.110.21</td>\n",
       "      <td>-</td>\n",
       "      <td>-</td>\n",
       "      <td>01/Jul/1995:00:00:09 -0400</td>\n",
       "      <td>GET</td>\n",
       "      <td>/shuttle/missions/sts-73/mission-sts-73.html</td>\n",
       "      <td>HTTP/1.0</td>\n",
       "      <td>200</td>\n",
       "      <td>4085</td>\n",
       "      <td>{'date': '01/Jul/1995', 'time': '00:00:09'}</td>\n",
       "      <td>01/Jul/1995</td>\n",
       "      <td>00:00:09</td>\n",
       "    </tr>\n",
       "    <tr>\n",
       "      <th>3</th>\n",
       "      <td>burger.letters.com</td>\n",
       "      <td>-</td>\n",
       "      <td>-</td>\n",
       "      <td>01/Jul/1995:00:00:11 -0400</td>\n",
       "      <td>GET</td>\n",
       "      <td>/shuttle/countdown/liftoff.html</td>\n",
       "      <td>HTTP/1.0</td>\n",
       "      <td>304</td>\n",
       "      <td>0</td>\n",
       "      <td>{'date': '01/Jul/1995', 'time': '00:00:11'}</td>\n",
       "      <td>01/Jul/1995</td>\n",
       "      <td>00:00:11</td>\n",
       "    </tr>\n",
       "    <tr>\n",
       "      <th>4</th>\n",
       "      <td>199.120.110.21</td>\n",
       "      <td>-</td>\n",
       "      <td>-</td>\n",
       "      <td>01/Jul/1995:00:00:11 -0400</td>\n",
       "      <td>GET</td>\n",
       "      <td>/shuttle/missions/sts-73/sts-73-patch-small.gif</td>\n",
       "      <td>HTTP/1.0</td>\n",
       "      <td>200</td>\n",
       "      <td>4179</td>\n",
       "      <td>{'date': '01/Jul/1995', 'time': '00:00:11'}</td>\n",
       "      <td>01/Jul/1995</td>\n",
       "      <td>00:00:11</td>\n",
       "    </tr>\n",
       "    <tr>\n",
       "      <th>5</th>\n",
       "      <td>burger.letters.com</td>\n",
       "      <td>-</td>\n",
       "      <td>-</td>\n",
       "      <td>01/Jul/1995:00:00:12 -0400</td>\n",
       "      <td>GET</td>\n",
       "      <td>/images/NASA-logosmall.gif</td>\n",
       "      <td>HTTP/1.0</td>\n",
       "      <td>304</td>\n",
       "      <td>0</td>\n",
       "      <td>{'date': '01/Jul/1995', 'time': '00:00:12'}</td>\n",
       "      <td>01/Jul/1995</td>\n",
       "      <td>00:00:12</td>\n",
       "    </tr>\n",
       "    <tr>\n",
       "      <th>6</th>\n",
       "      <td>burger.letters.com</td>\n",
       "      <td>-</td>\n",
       "      <td>-</td>\n",
       "      <td>01/Jul/1995:00:00:12 -0400</td>\n",
       "      <td>GET</td>\n",
       "      <td>/shuttle/countdown/video/livevideo.gif</td>\n",
       "      <td>HTTP/1.0</td>\n",
       "      <td>200</td>\n",
       "      <td>0</td>\n",
       "      <td>{'date': '01/Jul/1995', 'time': '00:00:12'}</td>\n",
       "      <td>01/Jul/1995</td>\n",
       "      <td>00:00:12</td>\n",
       "    </tr>\n",
       "    <tr>\n",
       "      <th>7</th>\n",
       "      <td>205.212.115.106</td>\n",
       "      <td>-</td>\n",
       "      <td>-</td>\n",
       "      <td>01/Jul/1995:00:00:12 -0400</td>\n",
       "      <td>GET</td>\n",
       "      <td>/shuttle/countdown/countdown.html</td>\n",
       "      <td>HTTP/1.0</td>\n",
       "      <td>200</td>\n",
       "      <td>3985</td>\n",
       "      <td>{'date': '01/Jul/1995', 'time': '00:00:12'}</td>\n",
       "      <td>01/Jul/1995</td>\n",
       "      <td>00:00:12</td>\n",
       "    </tr>\n",
       "    <tr>\n",
       "      <th>8</th>\n",
       "      <td>d104.aa.net</td>\n",
       "      <td>-</td>\n",
       "      <td>-</td>\n",
       "      <td>01/Jul/1995:00:00:13 -0400</td>\n",
       "      <td>GET</td>\n",
       "      <td>/shuttle/countdown/</td>\n",
       "      <td>HTTP/1.0</td>\n",
       "      <td>200</td>\n",
       "      <td>3985</td>\n",
       "      <td>{'date': '01/Jul/1995', 'time': '00:00:13'}</td>\n",
       "      <td>01/Jul/1995</td>\n",
       "      <td>00:00:13</td>\n",
       "    </tr>\n",
       "    <tr>\n",
       "      <th>9</th>\n",
       "      <td>129.94.144.152</td>\n",
       "      <td>-</td>\n",
       "      <td>-</td>\n",
       "      <td>01/Jul/1995:00:00:13 -0400</td>\n",
       "      <td>GET</td>\n",
       "      <td>/</td>\n",
       "      <td>HTTP/1.0</td>\n",
       "      <td>200</td>\n",
       "      <td>7074</td>\n",
       "      <td>{'date': '01/Jul/1995', 'time': '00:00:13'}</td>\n",
       "      <td>01/Jul/1995</td>\n",
       "      <td>00:00:13</td>\n",
       "    </tr>\n",
       "  </tbody>\n",
       "</table>\n",
       "</div>"
      ],
      "text/plain": [
       "                   host client_identd user_id                   date_time  \\\n",
       "0          199.72.81.55             -       -  01/Jul/1995:00:00:01 -0400   \n",
       "1  unicomp6.unicomp.net             -       -  01/Jul/1995:00:00:06 -0400   \n",
       "2        199.120.110.21             -       -  01/Jul/1995:00:00:09 -0400   \n",
       "3    burger.letters.com             -       -  01/Jul/1995:00:00:11 -0400   \n",
       "4        199.120.110.21             -       -  01/Jul/1995:00:00:11 -0400   \n",
       "5    burger.letters.com             -       -  01/Jul/1995:00:00:12 -0400   \n",
       "6    burger.letters.com             -       -  01/Jul/1995:00:00:12 -0400   \n",
       "7       205.212.115.106             -       -  01/Jul/1995:00:00:12 -0400   \n",
       "8           d104.aa.net             -       -  01/Jul/1995:00:00:13 -0400   \n",
       "9        129.94.144.152             -       -  01/Jul/1995:00:00:13 -0400   \n",
       "\n",
       "  method                                         endpoint  protocol  \\\n",
       "0    GET                                 /history/apollo/  HTTP/1.0   \n",
       "1    GET                              /shuttle/countdown/  HTTP/1.0   \n",
       "2    GET     /shuttle/missions/sts-73/mission-sts-73.html  HTTP/1.0   \n",
       "3    GET                  /shuttle/countdown/liftoff.html  HTTP/1.0   \n",
       "4    GET  /shuttle/missions/sts-73/sts-73-patch-small.gif  HTTP/1.0   \n",
       "5    GET                       /images/NASA-logosmall.gif  HTTP/1.0   \n",
       "6    GET           /shuttle/countdown/video/livevideo.gif  HTTP/1.0   \n",
       "7    GET                /shuttle/countdown/countdown.html  HTTP/1.0   \n",
       "8    GET                              /shuttle/countdown/  HTTP/1.0   \n",
       "9    GET                                                /  HTTP/1.0   \n",
       "\n",
       "  response_code content_size                                date_time_new  \\\n",
       "0           200         6245  {'date': '01/Jul/1995', 'time': '00:00:01'}   \n",
       "1           200         3985  {'date': '01/Jul/1995', 'time': '00:00:06'}   \n",
       "2           200         4085  {'date': '01/Jul/1995', 'time': '00:00:09'}   \n",
       "3           304            0  {'date': '01/Jul/1995', 'time': '00:00:11'}   \n",
       "4           200         4179  {'date': '01/Jul/1995', 'time': '00:00:11'}   \n",
       "5           304            0  {'date': '01/Jul/1995', 'time': '00:00:12'}   \n",
       "6           200            0  {'date': '01/Jul/1995', 'time': '00:00:12'}   \n",
       "7           200         3985  {'date': '01/Jul/1995', 'time': '00:00:12'}   \n",
       "8           200         3985  {'date': '01/Jul/1995', 'time': '00:00:13'}   \n",
       "9           200         7074  {'date': '01/Jul/1995', 'time': '00:00:13'}   \n",
       "\n",
       "          date      time  \n",
       "0  01/Jul/1995  00:00:01  \n",
       "1  01/Jul/1995  00:00:06  \n",
       "2  01/Jul/1995  00:00:09  \n",
       "3  01/Jul/1995  00:00:11  \n",
       "4  01/Jul/1995  00:00:11  \n",
       "5  01/Jul/1995  00:00:12  \n",
       "6  01/Jul/1995  00:00:12  \n",
       "7  01/Jul/1995  00:00:12  \n",
       "8  01/Jul/1995  00:00:13  \n",
       "9  01/Jul/1995  00:00:13  "
      ]
     },
     "execution_count": 84,
     "metadata": {},
     "output_type": "execute_result"
    }
   ],
   "source": [
    "dfClean_split_date_time = dfClean_date_time.selectExpr(\"*\", *new_list)\n",
    "dfClean_split_date_time.limit(10).toPandas()"
   ]
  },
  {
   "cell_type": "code",
   "execution_count": null,
   "metadata": {},
   "outputs": [],
   "source": []
  }
 ],
 "metadata": {
  "kernelspec": {
   "display_name": "Python 3",
   "language": "python",
   "name": "python3"
  },
  "language_info": {
   "codemirror_mode": {
    "name": "ipython",
    "version": 3
   },
   "file_extension": ".py",
   "mimetype": "text/x-python",
   "name": "python",
   "nbconvert_exporter": "python",
   "pygments_lexer": "ipython3",
   "version": "3.6.3"
  },
  "toc": {
   "base_numbering": 1,
   "nav_menu": {},
   "number_sections": false,
   "sideBar": true,
   "skip_h1_title": false,
   "title_cell": "Table of Contents",
   "title_sidebar": "Contents",
   "toc_cell": false,
   "toc_position": {},
   "toc_section_display": true,
   "toc_window_display": false
  }
 },
 "nbformat": 4,
 "nbformat_minor": 2
}
