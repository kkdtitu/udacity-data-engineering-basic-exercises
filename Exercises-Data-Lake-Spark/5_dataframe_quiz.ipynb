{
 "cells": [
  {
   "cell_type": "markdown",
   "metadata": {},
   "source": [
    "# Data Wrangling with DataFrames Coding Quiz\n",
    "\n",
    "Use this Jupyter notebook to find the answers to the quiz in the previous section. There is an answer key in the next part of the lesson."
   ]
  },
  {
   "cell_type": "code",
   "execution_count": 1,
   "metadata": {},
   "outputs": [
    {
     "data": {
      "text/plain": [
       "[Row(artist='Showaddywaddy', auth='Logged In', firstName='Kenneth', gender='M', itemInSession=112, lastName='Matthews', length=232.93342, level='paid', location='Charlotte-Concord-Gastonia, NC-SC', method='PUT', page='NextSong', registration=1509380319284, sessionId=5132, song='Christmas Tears Will Fall', status=200, ts=1513720872284, userAgent='\"Mozilla/5.0 (Windows NT 6.1) AppleWebKit/537.36 (KHTML, like Gecko) Chrome/36.0.1985.125 Safari/537.36\"', userId='1046'),\n",
       " Row(artist='Lily Allen', auth='Logged In', firstName='Elizabeth', gender='F', itemInSession=7, lastName='Chase', length=195.23873, level='free', location='Shreveport-Bossier City, LA', method='PUT', page='NextSong', registration=1512718541284, sessionId=5027, song='Cheryl Tweedy', status=200, ts=1513720878284, userAgent='\"Mozilla/5.0 (Windows NT 6.1) AppleWebKit/537.36 (KHTML, like Gecko) Chrome/36.0.1985.143 Safari/537.36\"', userId='1000'),\n",
       " Row(artist='Cobra Starship Featuring Leighton Meester', auth='Logged In', firstName='Vera', gender='F', itemInSession=6, lastName='Blackwell', length=196.20526, level='paid', location='Racine, WI', method='PUT', page='NextSong', registration=1499855749284, sessionId=5516, song='Good Girls Go Bad (Feat.Leighton Meester) (Album Version)', status=200, ts=1513720881284, userAgent='\"Mozilla/5.0 (Macintosh; Intel Mac OS X 10_9_4) AppleWebKit/537.78.2 (KHTML, like Gecko) Version/7.0.6 Safari/537.78.2\"', userId='2219'),\n",
       " Row(artist='Alex Smoke', auth='Logged In', firstName='Sophee', gender='F', itemInSession=8, lastName='Barker', length=405.99465, level='paid', location='San Luis Obispo-Paso Robles-Arroyo Grande, CA', method='PUT', page='NextSong', registration=1513009647284, sessionId=2372, song=\"Don't See The Point\", status=200, ts=1513720905284, userAgent='\"Mozilla/5.0 (Windows NT 6.1; WOW64) AppleWebKit/537.36 (KHTML, like Gecko) Chrome/36.0.1985.143 Safari/537.36\"', userId='2373'),\n",
       " Row(artist=None, auth='Logged In', firstName='Jordyn', gender='F', itemInSession=0, lastName='Jones', length=None, level='free', location='Syracuse, NY', method='GET', page='Home', registration=1513648531284, sessionId=1746, song=None, status=200, ts=1513720913284, userAgent='\"Mozilla/5.0 (Macintosh; Intel Mac OS X 10_9_4) AppleWebKit/537.36 (KHTML, like Gecko) Chrome/37.0.2062.94 Safari/537.36\"', userId='1747')]"
      ]
     },
     "execution_count": 1,
     "metadata": {},
     "output_type": "execute_result"
    }
   ],
   "source": [
    "import pyspark\n",
    "from pyspark.sql import SparkSession\n",
    "\n",
    "# TODOS: \n",
    "# 1) import any other libraries you might need\n",
    "# 2) instantiate a Spark session \n",
    "# 3) read in the data set located at the path \"data/sparkify_log_small.json\"\n",
    "# 4) write code to answer the quiz questions \n",
    "from pyspark.sql.functions import udf, desc\n",
    "import pyspark.sql.functions as func\n",
    "from pyspark.sql.window import Window\n",
    "\n",
    "from pyspark.sql.types import *\n",
    "from pyspark.sql.types import FloatType\n",
    "from pyspark.sql.types import IntegerType\n",
    "from pyspark.sql.types import StringType\n",
    "import pandas as pd \n",
    "\n",
    "import datetime\n",
    "\n",
    "ss = pyspark.sql.SparkSession.builder.getOrCreate()\n",
    "\n",
    "df_ss_json = ss.read.json(\"data/sparkify_log_small.json\")\n",
    "df_ss_json.take(5)"
   ]
  },
  {
   "cell_type": "markdown",
   "metadata": {},
   "source": [
    "# Question 1\n",
    "\n",
    "Which page did user id \"\" (empty string) NOT visit?"
   ]
  },
  {
   "cell_type": "code",
   "execution_count": 2,
   "metadata": {},
   "outputs": [
    {
     "name": "stdout",
     "output_type": "stream",
     "text": [
      "All pages: ['Submit Downgrade', 'Home', 'Downgrade', 'Logout', 'Save Settings', 'About', 'Settings', 'Login', 'NextSong', 'Help', 'Upgrade', 'Error', 'Submit Upgrade']\n",
      "pages visited by user id \"\" :  ['Home', 'About', 'Login', 'Help']\n",
      "pages not visited by user id \"\" :  ['Submit Downgrade', 'Downgrade', 'Logout', 'Save Settings', 'Settings', 'NextSong', 'Upgrade', 'Error', 'Submit Upgrade']\n"
     ]
    }
   ],
   "source": [
    "# TODO: write your code to answer question 1\n",
    "df_pd_json = df_ss_json.select(\"page\").dropDuplicates().toPandas()\n",
    "#df_pd_json.head(5)\n",
    "list_pages_full_pd = df_pd_json[\"page\"].tolist()\n",
    "print(\"All pages:\", list_pages_full_pd)\n",
    "\n",
    "df_pd_json_userid = df_ss_json.filter(df_ss_json[\"userId\"]==\"\").select(\"page\").dropDuplicates().toPandas()\n",
    "list_pages_userid_pd = df_pd_json_userid[\"page\"].tolist()\n",
    "print(\"pages visited by user id \\\"\\\" : \", list_pages_userid_pd)\n",
    "\n",
    "list_diff = list()\n",
    "for item in list_pages_full_pd:\n",
    "    if item not in list_pages_userid_pd:\n",
    "        list_diff.append(item)\n",
    "print(\"pages not visited by user id \\\"\\\" : \", list_diff)"
   ]
  },
  {
   "cell_type": "markdown",
   "metadata": {},
   "source": [
    "# Question 2 - Reflect\n",
    "\n",
    "What type of user does the empty string user id most likely refer to?\n"
   ]
  },
  {
   "cell_type": "code",
   "execution_count": 3,
   "metadata": {},
   "outputs": [],
   "source": [
    "# TODO: use this space to explore the behavior of the user with an empty string\n"
   ]
  },
  {
   "cell_type": "markdown",
   "metadata": {},
   "source": [
    "# Question 3\n",
    "\n",
    "How many female users do we have in the data set?"
   ]
  },
  {
   "cell_type": "code",
   "execution_count": 3,
   "metadata": {},
   "outputs": [
    {
     "name": "stdout",
     "output_type": "stream",
     "text": [
      "female count:  462\n",
      "+------+-----+\n",
      "|gender|count|\n",
      "+------+-----+\n",
      "|     F|  462|\n",
      "|  null|    1|\n",
      "|     M|  501|\n",
      "+------+-----+\n",
      "\n",
      "None\n"
     ]
    }
   ],
   "source": [
    "# TODO: write your code to answer question 3\n",
    "female_count = df_ss_json.filter(df_ss_json[\"gender\"].isin([\"F\"])).select(\"userID\").dropDuplicates().count()\n",
    "print(\"female count: \", female_count)\n",
    "df_gender_count = df_ss_json.select(\"userID\", \"gender\").dropDuplicates().groupBy(\"gender\").count()\n",
    "print(df_gender_count.show())"
   ]
  },
  {
   "cell_type": "markdown",
   "metadata": {},
   "source": [
    "# Question 4\n",
    "\n",
    "How many songs were played from the most played artist?"
   ]
  },
  {
   "cell_type": "code",
   "execution_count": 4,
   "metadata": {},
   "outputs": [
    {
     "name": "stdout",
     "output_type": "stream",
     "text": [
      "+--------------------+-----+\n",
      "|              artist|count|\n",
      "+--------------------+-----+\n",
      "|            Coldplay|   83|\n",
      "|       Kings Of Leon|   69|\n",
      "|Florence + The Ma...|   52|\n",
      "|            BjÃÂ¶rk|   46|\n",
      "|       Dwight Yoakam|   45|\n",
      "|       Justin Bieber|   43|\n",
      "|      The Black Keys|   40|\n",
      "|         OneRepublic|   37|\n",
      "|        Jack Johnson|   36|\n",
      "|                Muse|   36|\n",
      "+--------------------+-----+\n",
      "only showing top 10 rows\n",
      "\n"
     ]
    }
   ],
   "source": [
    "# TODO: write your code to answer question 4\n",
    "df_ss_json.filter(df_ss_json.page == \"NextSong\").select(\"artist\").\\\n",
    "    groupBy(\"artist\").count().sort(desc(\"count\")).show(10)\n",
    "\n",
    "#df_ss_json.filter(df_ss_json.page == \"NextSong\").select(\"artist\").\\\n",
    "#    groupBy(\"artist\").count().sort(desc(\"count\")).collect()"
   ]
  },
  {
   "cell_type": "markdown",
   "metadata": {},
   "source": [
    "# Question 5 (challenge)\n",
    "\n",
    "How many songs do users listen to on average between visiting our home page? Please round your answer to the closest integer.\n",
    "\n"
   ]
  },
  {
   "cell_type": "code",
   "execution_count": 35,
   "metadata": {},
   "outputs": [
    {
     "name": "stdout",
     "output_type": "stream",
     "text": [
      "+------+----------+--------------+\n",
      "|userId|home_count|nextsong_count|\n",
      "+------+----------+--------------+\n",
      "|  1436|         0|             2|\n",
      "|  2088|         1|            13|\n",
      "|  2162|         2|            34|\n",
      "|  2294|         5|            55|\n",
      "|  2904|         0|             1|\n",
      "|   691|         1|             3|\n",
      "|  1394|         1|            26|\n",
      "|  2275|         1|             3|\n",
      "|  2756|         2|             5|\n",
      "|   451|         2|             2|\n",
      "|   800|         1|             2|\n",
      "|  1280|         2|             0|\n",
      "|  1746|         2|             0|\n",
      "|  2696|         1|             1|\n",
      "|   870|         0|             2|\n",
      "|   926|         3|             4|\n",
      "|  1903|         2|             5|\n",
      "|   591|         0|             1|\n",
      "|     7|         0|             2|\n",
      "|   307|         0|             1|\n",
      "|   574|         2|             4|\n",
      "|   613|         1|             2|\n",
      "|  1043|         1|             1|\n",
      "|  2402|         1|             3|\n",
      "|  2644|         0|             1|\n",
      "|   577|         1|             1|\n",
      "|  1349|         1|            11|\n",
      "|  1418|         0|             4|\n",
      "|  2200|         1|             0|\n",
      "|  2392|         0|             1|\n",
      "|  2531|         1|             0|\n",
      "|  2964|         1|             0|\n",
      "|  2980|         2|             5|\n",
      "|   442|         1|             6|\n",
      "|   462|         4|           117|\n",
      "|   647|         1|             0|\n",
      "|  1686|         1|             4|\n",
      "|  2628|         1|             2|\n",
      "|  2720|         0|             1|\n",
      "|   282|         4|             3|\n",
      "|   448|         0|             1|\n",
      "|   700|         4|            16|\n",
      "|  1158|         2|             8|\n",
      "|  1304|         0|             1|\n",
      "|  1377|         1|             2|\n",
      "|  1412|         1|             0|\n",
      "|  2415|         0|             1|\n",
      "|  2812|         0|            10|\n",
      "|  2988|         1|             1|\n",
      "|   635|         1|             0|\n",
      "+------+----------+--------------+\n",
      "only showing top 50 rows\n",
      "\n",
      "1126\n",
      "8347\n",
      "Average nextsong_count per home_count =  7.412966252220249\n"
     ]
    }
   ],
   "source": [
    "# TODO: write your code to answer question 5\n",
    "func_is_home = udf(lambda x: int(x==\"Home\"), IntegerType())\n",
    "\n",
    "df_ss_json_f = df_ss_json.filter((df_ss_json.page==\"Home\")| (df_ss_json.page==\"NextSong\"))\n",
    "#print(df_ss_json_f.count())\n",
    "\n",
    "df_ss_json_f_1 = df_ss_json_f.withColumn(\"Is_Home\", func_is_home(\"page\"))\n",
    "#df_ss_json_f_1.show(5)\n",
    "\n",
    "df_ss_json_f_2 = df_ss_json_f_1.select(\"userId\", \"ts\", \"page\", \"Is_Home\") \n",
    "#df_ss_json_f_2.show(5)\n",
    "\n",
    "window_def = Window.partitionBy(\"userId\").orderBy(\"ts\").\\\n",
    "    rowsBetween(Window.unboundedPreceding, Window.unboundedFollowing)\n",
    "df_ss_json_f_3 = df_ss_json_f_2.withColumn(\"total_count\", func.count(\"ts\").over(window_def))\n",
    "#df_ss_json_f_3.show(50)\n",
    "df_ss_json_f_4 = df_ss_json_f_3.withColumn(\"home_count\", func.sum(\"Is_Home\").over(window_def))\n",
    "df_ss_json_f_5 = df_ss_json_f_4.withColumn(\"nextsong_count\", (df_ss_json_f_4.total_count - df_ss_json_f_4.home_count))\n",
    "#df_ss_json_f_5.show(50)\n",
    "df_ss_json_f_6 = df_ss_json_f_5.select(\"userId\", \"home_count\", \"nextsong_count\").dropDuplicates()\n",
    "df_ss_json_f_6.show(50)\n",
    "print(df_ss_json_f_6.groupBy().sum(\"home_count\").collect()[0][0])\n",
    "print(df_ss_json_f_6.groupBy().sum(\"nextsong_count\").collect()[0][0])\n",
    "print(\"Average nextsong_count per home_count = \", df_ss_json_f_6.groupBy().sum(\"nextsong_count\").collect()[0][0] \\\n",
    "     / df_ss_json_f_6.groupBy().sum(\"home_count\").collect()[0][0])\n"
   ]
  },
  {
   "cell_type": "code",
   "execution_count": null,
   "metadata": {},
   "outputs": [],
   "source": []
  }
 ],
 "metadata": {
  "kernelspec": {
   "display_name": "Python 3",
   "language": "python",
   "name": "python3"
  },
  "language_info": {
   "codemirror_mode": {
    "name": "ipython",
    "version": 3
   },
   "file_extension": ".py",
   "mimetype": "text/x-python",
   "name": "python",
   "nbconvert_exporter": "python",
   "pygments_lexer": "ipython3",
   "version": "3.6.3"
  }
 },
 "nbformat": 4,
 "nbformat_minor": 2
}
